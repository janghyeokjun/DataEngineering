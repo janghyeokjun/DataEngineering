{
 "cells": [
  {
   "cell_type": "code",
   "execution_count": 1,
   "id": "6d614e7f-dc2f-46f3-b9c1-1772a54a3bdb",
   "metadata": {
    "tags": []
   },
   "outputs": [],
   "source": [
    "hairstyles = [\"bouffant\", \"pixie\", \"dreadlocks\", \"crew\", \"bowl\", \"bob\", \"mohawk\", \"flattop\"]"
   ]
  },
  {
   "cell_type": "code",
   "execution_count": 2,
   "id": "c151c19d-0eae-43c2-94d5-4364ed21b1bc",
   "metadata": {
    "tags": []
   },
   "outputs": [],
   "source": [
    "prices = [30, 25, 40, 20, 20, 35, 50, 35]"
   ]
  },
  {
   "cell_type": "code",
   "execution_count": 3,
   "id": "090b7cd6-44cd-4efd-8c9c-ff388f795176",
   "metadata": {
    "tags": []
   },
   "outputs": [],
   "source": [
    "last_week = [2, 3, 5, 8, 4, 4, 6, 2]"
   ]
  },
  {
   "cell_type": "code",
   "execution_count": 4,
   "id": "6646808c-3c98-4907-a1f6-3e59f094576d",
   "metadata": {
    "tags": []
   },
   "outputs": [
    {
     "name": "stdout",
     "output_type": "stream",
     "text": [
      "255\n"
     ]
    }
   ],
   "source": [
    "total_price=0\n",
    "for i in prices:\n",
    "    total_price += i\n",
    "print(total_price)"
   ]
  },
  {
   "cell_type": "code",
   "execution_count": 5,
   "id": "fd7db39f-f4ac-40e6-9e00-c9f0ca81f2db",
   "metadata": {
    "tags": []
   },
   "outputs": [
    {
     "name": "stdout",
     "output_type": "stream",
     "text": [
      "8\n",
      "31.875\n"
     ]
    }
   ],
   "source": [
    "average_price = total_price/len(prices)\n",
    "print(len(prices))\n",
    "print(average_price)"
   ]
  },
  {
   "cell_type": "code",
   "execution_count": 6,
   "id": "17d26c85-5bda-4532-80e1-ecd8a4adb419",
   "metadata": {
    "tags": []
   },
   "outputs": [
    {
     "name": "stdout",
     "output_type": "stream",
     "text": [
      "[25, 20, 35, 15, 15, 30, 45, 30]\n",
      "[30, 25, 40, 20, 20, 35, 50, 35]\n"
     ]
    }
   ],
   "source": [
    "new_prices=prices[0:]\n",
    "    \n",
    "for i in range(0,len(prices)):\n",
    "    new_prices[i]-=5\n",
    "    \n",
    "print(new_prices)\n",
    "print(prices)"
   ]
  },
  {
   "cell_type": "code",
   "execution_count": 7,
   "id": "2d9e6c10-e011-4327-bde0-3398fc758cfd",
   "metadata": {
    "tags": []
   },
   "outputs": [
    {
     "name": "stdout",
     "output_type": "stream",
     "text": [
      "1085\n",
      "155.0\n"
     ]
    }
   ],
   "source": [
    "total_revenue = 0\n",
    "\n",
    "for i in range(0,len(hairstyles)):\n",
    "    total_revenue += prices[i]*last_week[i]\n",
    "               \n",
    "print(total_revenue)\n",
    "\n",
    "average_daily_revenue = total_revenue/7\n",
    "print(average_daily_revenue)"
   ]
  },
  {
   "cell_type": "code",
   "execution_count": 8,
   "id": "547beaac-933f-4852-acc2-bbe017c140a5",
   "metadata": {
    "tags": []
   },
   "outputs": [
    {
     "name": "stdout",
     "output_type": "stream",
     "text": [
      "['bouffant', 'pixie', 'crew', 'bowl']\n"
     ]
    }
   ],
   "source": [
    "cuts_under_30=[]\n",
    "for i in range(0,len(new_prices)-1):\n",
    "    if new_prices[i]<30:\n",
    "        cuts_under_30.append( hairstyles[i])\n",
    "        \n",
    "print(cuts_under_30)"
   ]
  }
 ],
 "metadata": {
  "kernelspec": {
   "display_name": "Python 3 (ipykernel)",
   "language": "python",
   "name": "python3"
  },
  "language_info": {
   "codemirror_mode": {
    "name": "ipython",
    "version": 3
   },
   "file_extension": ".py",
   "mimetype": "text/x-python",
   "name": "python",
   "nbconvert_exporter": "python",
   "pygments_lexer": "ipython3",
   "version": "3.11.5"
  }
 },
 "nbformat": 4,
 "nbformat_minor": 5
}
