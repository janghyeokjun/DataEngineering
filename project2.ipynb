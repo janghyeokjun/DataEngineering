{
 "cells": [
  {
   "cell_type": "code",
   "execution_count": 107,
   "id": "aba685bf-d601-485f-9cba-9b8060b6ed3d",
   "metadata": {
    "tags": []
   },
   "outputs": [],
   "source": [
    "subjects = [\"physics\", \"calculus\", \"poetry\",\"history\"]"
   ]
  },
  {
   "cell_type": "code",
   "execution_count": 108,
   "id": "52c71735-ea5a-4b5e-a82a-9a4745ab0b44",
   "metadata": {
    "tags": []
   },
   "outputs": [],
   "source": [
    "grades = [98,97,85,88]"
   ]
  },
  {
   "cell_type": "code",
   "execution_count": 109,
   "id": "f07252d8-2347-444e-9b8b-b0f5aa03ff3a",
   "metadata": {
    "tags": []
   },
   "outputs": [],
   "source": [
    "gradebook = [[\"physics\",98],[\"calculus\",97],[\"poetry\",85],[\"history\",88]]"
   ]
  },
  {
   "cell_type": "code",
   "execution_count": 110,
   "id": "893f0b21-3171-4fef-9334-6871f8e13177",
   "metadata": {
    "tags": []
   },
   "outputs": [
    {
     "name": "stdout",
     "output_type": "stream",
     "text": [
      "[['physics', 98], ['calculus', 97], ['poetry', 85], ['history', 88]]\n"
     ]
    }
   ],
   "source": [
    "print(gradebook)"
   ]
  },
  {
   "cell_type": "code",
   "execution_count": 111,
   "id": "c71b7d25-47fc-4cf1-a14b-22c1cf1fe52d",
   "metadata": {
    "tags": []
   },
   "outputs": [],
   "source": [
    "gradebook.append([\"computer science\",100])\n",
    "gradebook.append([\"visual arts\", 93])"
   ]
  },
  {
   "cell_type": "code",
   "execution_count": 112,
   "id": "ebf75495-e835-4e6d-a1eb-122f88e3eda6",
   "metadata": {
    "tags": []
   },
   "outputs": [],
   "source": [
    "gradebook[5][1]+=5"
   ]
  },
  {
   "cell_type": "code",
   "execution_count": 113,
   "id": "d04339aa-d97b-4b99-a709-ae3903899901",
   "metadata": {
    "tags": []
   },
   "outputs": [
    {
     "name": "stdout",
     "output_type": "stream",
     "text": [
      "[['physics', 98], ['calculus', 97], ['poetry', 85], ['history', 88], ['computer science', 100], ['visual arts', 98]]\n"
     ]
    }
   ],
   "source": [
    "print(gradebook)"
   ]
  },
  {
   "cell_type": "code",
   "execution_count": 114,
   "id": "35061d27-8c0b-4e5f-b3db-5526930edafc",
   "metadata": {
    "tags": []
   },
   "outputs": [],
   "source": [
    "gradebook[2].remove(85)\n",
    "gradebook[2].append(\"Pass\")"
   ]
  },
  {
   "cell_type": "code",
   "execution_count": 115,
   "id": "173008b1-d399-4e1a-9f66-12ea3522b060",
   "metadata": {
    "tags": []
   },
   "outputs": [],
   "source": [
    "last_semester_gradebook = [[\"politics\", 80], [\"latin\", 96], [\"dance\", 97], [\"architecture\", 65]]"
   ]
  },
  {
   "cell_type": "code",
   "execution_count": 116,
   "id": "1b7f1293-724a-4324-a8de-959d29e09c64",
   "metadata": {
    "tags": []
   },
   "outputs": [
    {
     "name": "stdout",
     "output_type": "stream",
     "text": [
      "[['politics', 80], ['latin', 96], ['dance', 97], ['architecture', 65], ['physics', 98], ['calculus', 97], ['poetry', 'Pass'], ['history', 88], ['computer science', 100], ['visual arts', 98]]\n"
     ]
    }
   ],
   "source": [
    "full_gradebook = last_semester_gradebook+gradebook\n",
    "print(full_gradebook)"
   ]
  }
 ],
 "metadata": {
  "kernelspec": {
   "display_name": "Python 3 (ipykernel)",
   "language": "python",
   "name": "python3"
  },
  "language_info": {
   "codemirror_mode": {
    "name": "ipython",
    "version": 3
   },
   "file_extension": ".py",
   "mimetype": "text/x-python",
   "name": "python",
   "nbconvert_exporter": "python",
   "pygments_lexer": "ipython3",
   "version": "3.11.5"
  }
 },
 "nbformat": 4,
 "nbformat_minor": 5
}
